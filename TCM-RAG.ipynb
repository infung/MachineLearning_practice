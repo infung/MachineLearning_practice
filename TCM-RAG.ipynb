{
 "cells": [
  {
   "cell_type": "code",
   "execution_count": 1,
   "id": "8687e223",
   "metadata": {},
   "outputs": [
    {
     "name": "stdout",
     "output_type": "stream",
     "text": [
      "\u001b[33mDEPRECATION: Configuring installation scheme with distutils config files is deprecated and will no longer work in the near future. If you are using a Homebrew or Linuxbrew Python, please see discussion at https://github.com/Homebrew/homebrew-core/issues/76621\u001b[0m\u001b[33m\n",
      "\u001b[0m\u001b[33mWARNING: Retrying (Retry(total=4, connect=None, read=None, redirect=None, status=None)) after connection broken by 'ReadTimeoutError(\"HTTPSConnectionPool(host='pypi.org', port=443): Read timed out. (read timeout=15)\")': /simple/langchain-community/\u001b[0m\u001b[33m\n",
      "\u001b[0m\u001b[33mDEPRECATION: Configuring installation scheme with distutils config files is deprecated and will no longer work in the near future. If you are using a Homebrew or Linuxbrew Python, please see discussion at https://github.com/Homebrew/homebrew-core/issues/76621\u001b[0m\u001b[33m\n",
      "\u001b[0mNote: you may need to restart the kernel to use updated packages.\n"
     ]
    }
   ],
   "source": [
    "# %pip install --upgrade --quiet  langchain langchain-community langchain-openai langchain-experimental neo4j wikipedia tiktoken yfiles_jupyter_graphs jieba "
   ]
  },
  {
   "cell_type": "code",
   "execution_count": null,
   "id": "782d84c1",
   "metadata": {},
   "outputs": [],
   "source": [
    "# Connect to the TCM database (created by TCM triple entities) in Neo4j"
   ]
  },
  {
   "cell_type": "code",
   "execution_count": 6,
   "id": "ff0982b8",
   "metadata": {},
   "outputs": [],
   "source": [
    "from langchain_community.graphs import Neo4jGraph\n",
    "import os\n",
    "\n",
    "os.environ[\"NEO4J_URI\"] = \"bolt://localhost:7687\"\n",
    "os.environ[\"NEO4J_USERNAME\"] = \"neo4j\"\n",
    "os.environ[\"NEO4J_PASSWORD\"] = \"88888888\"\n",
    "\n",
    "graph = Neo4jGraph()"
   ]
  },
  {
   "cell_type": "code",
   "execution_count": null,
   "id": "5143e9ab",
   "metadata": {},
   "outputs": [],
   "source": [
    "# Visualize the TCM data by specific 病症"
   ]
  },
  {
   "cell_type": "code",
   "execution_count": 7,
   "id": "430c1263",
   "metadata": {},
   "outputs": [
    {
     "data": {
      "application/vnd.jupyter.widget-view+json": {
       "model_id": "d618f0dfb7124c9c9fdd4f32e19230d8",
       "version_major": 2,
       "version_minor": 0
      },
      "text/plain": [
       "GraphWidget(layout=Layout(height='500px', width='100%'))"
      ]
     },
     "metadata": {},
     "output_type": "display_data"
    }
   ],
   "source": [
    "from neo4j import GraphDatabase\n",
    "from yfiles_jupyter_graphs import GraphWidget\n",
    "\n",
    "# create a neo4j session to run queries\n",
    "driver = GraphDatabase.driver(uri = os.environ[\"NEO4J_URI\"], auth = (os.environ[\"NEO4J_USERNAME\"], os.environ[\"NEO4J_PASSWORD\"]))\n",
    "\n",
    "# directly show the graph resulting from the given Cypher query\n",
    "default_cypher = \"MATCH (n)-[r]-(b) Where n.name='肛门坠胀' RETURN n,r,b LIMIT 10\"\n",
    "\n",
    "def showGraph(cypher: str = default_cypher):\n",
    "    session = driver.session()\n",
    "    widget = GraphWidget(graph = session.run(cypher).graph())\n",
    "    widget.node_label_mapping = 'name'\n",
    "    #display(widget)\n",
    "    return widget\n",
    "\n",
    "showGraph()"
   ]
  },
  {
   "cell_type": "code",
   "execution_count": null,
   "id": "2f900132",
   "metadata": {},
   "outputs": [],
   "source": [
    "# List out the labels that the graph currently holds"
   ]
  },
  {
   "cell_type": "code",
   "execution_count": 4,
   "id": "2b116e33",
   "metadata": {},
   "outputs": [
    {
     "name": "stdout",
     "output_type": "stream",
     "text": [
      "{'chemical_MM', '治法', '贮藏', '用量', '毒性', '归经', '注意', '功能', '病症', 'symmap_chemical', '证候', '中药', '药性', '药味', 'TS_MS', '部位', '用法'}\n"
     ]
    }
   ],
   "source": [
    "label_list = set()\n",
    "\n",
    "# Execute a Cypher query to retrieve the available node labels\n",
    "with driver.session() as session:\n",
    "    result = session.run(\"MATCH (n) RETURN DISTINCT labels(n) AS labels\")\n",
    "\n",
    "    # Print the available labels\n",
    "    for record in result:\n",
    "        labels = record['labels']\n",
    "        label_list.update(labels)\n",
    "\n",
    "print(label_list)"
   ]
  },
  {
   "cell_type": "code",
   "execution_count": null,
   "id": "03e9189f",
   "metadata": {},
   "outputs": [],
   "source": [
    "# Pick the most appropriate one that we gonna start with and check it's relative properties"
   ]
  },
  {
   "cell_type": "code",
   "execution_count": 5,
   "id": "f38c2e7c",
   "metadata": {},
   "outputs": [
    {
     "name": "stdout",
     "output_type": "stream",
     "text": [
      "name\n",
      "embedding\n"
     ]
    }
   ],
   "source": [
    "# Define the chosen node label\n",
    "node_label = \"病症\"  # Replace with the chosen node label\n",
    "\n",
    "# Execute a Cypher query to retrieve the properties of nodes with the chosen label\n",
    "with driver.session() as session:\n",
    "    result = session.run(f\"MATCH (n:{node_label}) UNWIND keys(n) AS property RETURN DISTINCT property\")\n",
    "\n",
    "    # Extract the property names\n",
    "    text_node_properties = [record['property'] for record in result]\n",
    "\n",
    "    # Print the property names\n",
    "    for property_name in text_node_properties:\n",
    "        print(property_name)"
   ]
  },
  {
   "cell_type": "code",
   "execution_count": 8,
   "id": "ab0a14a0",
   "metadata": {},
   "outputs": [],
   "source": [
    "API_SECRET_KEY = \"sk-KEY\";\n",
    "\n",
    "os.environ[\"OPENAI_API_KEY\"] = API_SECRET_KEY"
   ]
  },
  {
   "cell_type": "code",
   "execution_count": null,
   "id": "bca28699-cfdf-4061-9a88-263ba3b543f1",
   "metadata": {},
   "outputs": [],
   "source": [
    "# Step 1: Unstructured data retriever"
   ]
  },
  {
   "cell_type": "code",
   "execution_count": null,
   "id": "259a558f",
   "metadata": {},
   "outputs": [],
   "source": [
    "# Use Neo4jVector.from_existing_graph method to generate a vector index which can find relevant 病症 by their name.\n",
    "# Calculate the text embedding values for each 病症 based on their name."
   ]
  },
  {
   "cell_type": "code",
   "execution_count": null,
   "id": "92934db1",
   "metadata": {},
   "outputs": [],
   "source": [
    "# Hybrid Retrieval: combines vector similarity search and keyword search with graph retrieval\n",
    "# This retriever employs keyword and vector searches to search through unstructured text data"
   ]
  },
  {
   "cell_type": "code",
   "execution_count": 9,
   "id": "9c9e9d8c",
   "metadata": {},
   "outputs": [],
   "source": [
    "from langchain_community.vectorstores import Neo4jVector\n",
    "from langchain_openai import OpenAIEmbeddings\n",
    "\n",
    "# Initialize keyword and vector retrieval from existing graph\n",
    "# vector_index = Neo4jVector.from_existing_graph(\n",
    "#     embedding=OpenAIEmbeddings(),\n",
    "#     search_type=\"hybrid\",\n",
    "#     node_label=\"病症\",\n",
    "#     text_node_properties=[\"name\"],\n",
    "#     embedding_node_property=\"embedding\",\n",
    "# )\n",
    "\n",
    "# load the hybrid search from existing indexes (if the keyword and vector retrieval has been initialized)\n",
    "index_name = \"vector\" \n",
    "keyword_index_name = \"keyword\"\n",
    "\n",
    "vector_index = Neo4jVector.from_existing_graph(\n",
    "    embedding=OpenAIEmbeddings(),\n",
    "    search_type=\"hybrid\",\n",
    "    node_label=\"病症\",\n",
    "    text_node_properties=[\"name\"],\n",
    "    embedding_node_property=\"embedding\",\n",
    "    index_name=index_name,\n",
    "    keyword_index_name=keyword_index_name,\n",
    ")"
   ]
  },
  {
   "cell_type": "code",
   "execution_count": null,
   "id": "23552b08",
   "metadata": {},
   "outputs": [],
   "source": [
    "# Find nodes that are similar to a given vector using a similarity metric (kNN)."
   ]
  },
  {
   "cell_type": "code",
   "execution_count": 22,
   "id": "8083651d",
   "metadata": {},
   "outputs": [
    {
     "name": "stdout",
     "output_type": "stream",
     "text": [
      "['肛门疼痛', '肛门肿痛', '肛门坠胀疼痛', '肛门疼痛剧烈']\n"
     ]
    }
   ],
   "source": [
    "result_list = vector_index.similarity_search(\"肛门痛是怎么回事?\")\n",
    "unstructured_data = [doc.page_content.replace('\\nname: ', '') for doc in result_list]\n",
    "print(unstructured_data)"
   ]
  },
  {
   "cell_type": "code",
   "execution_count": null,
   "id": "505d51be-fc2d-4919-90cc-84f2b08bed8d",
   "metadata": {},
   "outputs": [],
   "source": [
    "# Step2: Graph retriever"
   ]
  },
  {
   "cell_type": "code",
   "execution_count": null,
   "id": "c5b013c1",
   "metadata": {},
   "outputs": [],
   "source": [
    "# Graph retriever: use a full-text index to identify relevant nodes and then return their direct neighborhood."
   ]
  },
  {
   "cell_type": "code",
   "execution_count": null,
   "id": "612bd6ca",
   "metadata": {},
   "outputs": [],
   "source": [
    "# We starts by identifying relevant entities in the input. \n",
    "# For simplicity, we instruct the LLM to identify 中药, 证候, 病症."
   ]
  },
  {
   "cell_type": "code",
   "execution_count": 29,
   "id": "45df7af8",
   "metadata": {},
   "outputs": [
    {
     "data": {
      "text/plain": [
       "[]"
      ]
     },
     "execution_count": 29,
     "metadata": {},
     "output_type": "execute_result"
    }
   ],
   "source": [
    "# 使用 Cypher 查询创建一个名为 \"entity\" 的全文索引，该索引将在每个节点的 name 属性上进行索引。\n",
    "graph.query(\n",
    "    \"CREATE FULLTEXT INDEX entity IF NOT EXISTS FOR (n:中药 | 部位 | 归经 | 证候 | 用法 | 病症 | 治法 | 贮藏 | 功能 | 毒性 | 注意 | 药性 | 药味 | 用量) ON EACH [n.name]\")"
   ]
  },
  {
   "cell_type": "code",
   "execution_count": 11,
   "id": "12e8326a",
   "metadata": {},
   "outputs": [
    {
     "name": "stdout",
     "output_type": "stream",
     "text": [
      "entity\n",
      "index_343aff4e\n",
      "index_f7700477\n",
      "keyword\n",
      "vector\n"
     ]
    }
   ],
   "source": [
    "cypher_query = \"SHOW INDEXES\"\n",
    "\n",
    "with driver.session() as session:\n",
    "    result = session.run(cypher_query)\n",
    "    # Check if the \"entity\" index exists\n",
    "    for record in result:\n",
    "        index_name = record[\"name\"]\n",
    "        print(index_name)"
   ]
  },
  {
   "cell_type": "code",
   "execution_count": 12,
   "id": "21098743",
   "metadata": {},
   "outputs": [],
   "source": [
    "from langchain_openai import ChatOpenAI\n",
    "\n",
    "llm=ChatOpenAI(model_name=\"gpt-3.5-turbo-0125\", temperature=0)"
   ]
  },
  {
   "cell_type": "code",
   "execution_count": 13,
   "id": "de830430",
   "metadata": {
    "scrolled": true
   },
   "outputs": [
    {
     "name": "stderr",
     "output_type": "stream",
     "text": [
      "/Users/infung/anaconda3/envs/KG/lib/python3.11/site-packages/langchain_core/_api/beta_decorator.py:87: LangChainBetaWarning: The function `with_structured_output` is in beta. It is actively being worked on, so the API may change.\n",
      "  warn_beta(\n"
     ]
    }
   ],
   "source": [
    "from langchain_core.prompts import ChatPromptTemplate\n",
    "from langchain_core.pydantic_v1 import BaseModel, Field\n",
    "from typing import List\n",
    "\n",
    "# 从文本中提取相关实体\n",
    "class Entities(BaseModel):\n",
    "    \"\"\"识别与中医(中国传统医学)、中药相关的实体信息.\"\"\"\n",
    "\n",
    "    names: List[str] = Field(\n",
    "        ...,\n",
    "        description=\"文本中出现的所有中药、证候和病症实体\",\n",
    "    )\n",
    "\n",
    "# https://python.langchain.com/docs/modules/model_io/chat/structured_output/\n",
    "structured_llm = llm.with_structured_output(Entities)\n",
    "\n",
    "prompt = ChatPromptTemplate.from_messages(\n",
    "    [\n",
    "        (\n",
    "            \"system\",\n",
    "            \"您正在从文本中提取中药、证候和病症实体。\",\n",
    "        ),\n",
    "        (\n",
    "            \"human\",\n",
    "            \"请使用给定的格式从以下内容中提取信息 \"\n",
    "            \"输入: {question}\",\n",
    "        ),\n",
    "    ]\n",
    ")\n",
    "\n",
    "# 使用在prompt变量中定义的模板设置prompt\n",
    "# 配置llm以生成与Entities数据模型匹配的结构化响应，使得模型能够从提供的文本中提取与中医、中药、症状和证候相关的实体信息\n",
    "# entity_chain以Entities对象的结构化输出形式回复您，该输出基于提供的模板和配置的语言模型。\n",
    "entity_chain = prompt | structured_llm"
   ]
  },
  {
   "cell_type": "code",
   "execution_count": 14,
   "id": "bf9505b4",
   "metadata": {},
   "outputs": [
    {
     "data": {
      "text/plain": [
       "['肛门痛']"
      ]
     },
     "execution_count": 14,
     "metadata": {},
     "output_type": "execute_result"
    }
   ],
   "source": [
    "entity_chain.invoke({\"question\": \"肛门痛是怎么回事?\"}).names"
   ]
  },
  {
   "cell_type": "code",
   "execution_count": null,
   "id": "4aa33581",
   "metadata": {},
   "outputs": [],
   "source": [
    "# Use the full-text index to map the extracted entities to the knowledge graph"
   ]
  },
  {
   "cell_type": "code",
   "execution_count": 15,
   "id": "138a821f",
   "metadata": {},
   "outputs": [
    {
     "name": "stdout",
     "output_type": "stream",
     "text": [
      "肛门 AND 痛\n"
     ]
    }
   ],
   "source": [
    "import jieba # 中文分词\n",
    "\n",
    "# 使用jieba进行中文分词\n",
    "# 再使用Lucene的AND搜索语法进行全文搜索\n",
    "# \"肛门痛\" -> \"肛门 AND 痛\"\n",
    "def generate_full_text_query(input: str) -> str:\n",
    "    \"\"\"\n",
    "    为给定的输入字符串生成全文搜索查询（full-text search query）。\n",
    "\n",
    "    该函数构建一个适用于全文搜索查询（full-text search query）的字符串。\n",
    "    它通过将输入字符串分拆成词语，并在每个词语后附加一个相似度阈值（大约1个改变的字符）来处理输入字符串。\n",
    "    然后使用AND操作符将它们组合起来。可用于将用户问题中的实体映射到数据库值，并允许一定程度的错误用词。\n",
    "    \"\"\"\n",
    "    full_text_query = \"\"\n",
    "    words = jieba.lcut(input)\n",
    "    for word in words[:-1]:\n",
    "        full_text_query += f\" {word} AND\"\n",
    "    full_text_query += f\" {words[-1]}\"\n",
    "    return full_text_query.strip()\n",
    "\n",
    "print(generate_full_text_query(\"肛门痛\"))"
   ]
  },
  {
   "cell_type": "code",
   "execution_count": 16,
   "id": "fc89d3ca",
   "metadata": {},
   "outputs": [],
   "source": [
    "# Fulltext index query\n",
    "def structured_retriever(question: str) -> str:\n",
    "    \"\"\"\n",
    "    收集在问题中提到的实体的邻居信息\n",
    "    \"\"\"\n",
    "    result = \"\"\n",
    "    entities = entity_chain.invoke({\"question\": question})\n",
    "    for entity in entities.names:\n",
    "        response = graph.query(\n",
    "            \"\"\"CALL db.index.fulltext.queryNodes('entity', $query)\n",
    "            YIELD node\n",
    "            CALL {\n",
    "              WITH node\n",
    "              MATCH (node)-[r:!MENTIONS]->(neighbor)\n",
    "              WHERE NOT type(r) IN ['symmap_chemical', 'chemical_MM', 'TS_MS']\n",
    "              RETURN node.name + ' - ' + type(r) + ' -> ' + neighbor.name AS output\n",
    "              UNION\n",
    "              WITH node\n",
    "              MATCH (node)<-[r:!MENTIONS]-(neighbor)\n",
    "              WHERE NOT type(r) IN ['symmap_chemical', 'chemical_MM', 'TS_MS']\n",
    "              RETURN neighbor.name + ' - ' + type(r) + ' -> ' +  node.name AS output\n",
    "            }\n",
    "            RETURN output LIMIT 50\n",
    "            \"\"\",\n",
    "            {\"query\": generate_full_text_query(entity)},\n",
    "        )\n",
    "        result += \"\\n\".join([el['output'] for el in response])\n",
    "    return result"
   ]
  },
  {
   "cell_type": "code",
   "execution_count": 25,
   "id": "82bc416f-f943-4dba-91da-05d4fc612c42",
   "metadata": {},
   "outputs": [
    {
     "name": "stdout",
     "output_type": "stream",
     "text": [
      "肛门疼痛 - 中药 -> 紫苏子\n",
      "肛门疼痛 - 中药 -> 蕤仁\n",
      "肛门疼痛 - 证候 -> 气血亏虚证\n",
      "肛门疼痛 - 中药 -> 三七\n",
      "肛门疼痛 - 中药 -> 板蓝根\n",
      "肛门疼痛 - 中药 -> 安息香\n",
      "肛门肿痛 - 证候 -> 溃脓期\n",
      "肛门灼热疼痛 - 证候 -> 湿热下注证\n",
      "肛门坠胀疼痛 - 证候 -> 血热瘀阻证\n",
      "肛门坠胀疼痛 - 证候 -> 湿热下注证\n",
      "肛门坠胀疼痛 - 证候 -> 湿热壅滞证\n",
      "肛门疼痛剧烈 - 证候 -> 气血瘀阻证\n",
      "肛门红肿灼热疼痛 - 证候 -> 肛门热毒证\n"
     ]
    }
   ],
   "source": [
    "print(structured_retriever(\"肛门痛是怎么回事?\"))"
   ]
  },
  {
   "cell_type": "code",
   "execution_count": null,
   "id": "b471da16-e6ca-4aee-bbbb-a1d0d2b89925",
   "metadata": {},
   "outputs": [],
   "source": [
    "# Step3: Final retriever"
   ]
  },
  {
   "cell_type": "code",
   "execution_count": null,
   "id": "6c107359-28ec-4766-a31f-fc7e85401c85",
   "metadata": {},
   "outputs": [],
   "source": [
    "# Combine the unstructured and graph retriever to create the final context that will be passed to an LLM."
   ]
  },
  {
   "cell_type": "code",
   "execution_count": 33,
   "id": "a765f23a-1690-4175-a957-741bbde20169",
   "metadata": {},
   "outputs": [],
   "source": [
    "def retriever(question: str):\n",
    "    print(f\"Search query: {question}\")\n",
    "    structured_data = structured_retriever(question)\n",
    "    result_list = vector_index.similarity_search(question)\n",
    "    unstructured_data = [doc.page_content.replace('\\nname: ', '') for doc in result_list]\n",
    "    final_data = f\"\"\"结构化数据:\n",
    "{structured_data}\n",
    "非结构化数据:\n",
    "{\"#病症 \". join(unstructured_data)}\n",
    "    \"\"\"\n",
    "    return final_data"
   ]
  },
  {
   "cell_type": "code",
   "execution_count": 38,
   "id": "f8f2f1c5-b7b1-4741-8920-25b6857785e7",
   "metadata": {},
   "outputs": [],
   "source": [
    "from langchain_core.prompts.prompt import PromptTemplate\n",
    "from typing import Tuple, Optional\n",
    "from langchain_core.runnables import (\n",
    "    RunnableBranch,\n",
    "    RunnableLambda,\n",
    "    RunnableParallel,\n",
    "    RunnablePassthrough,\n",
    ")\n",
    "from langchain_core.runnables import ConfigurableField, RunnableParallel, RunnablePassthrough\n",
    "from langchain_core.output_parsers import StrOutputParser\n",
    "\n",
    "# Condense a chat history and follow-up question into a standalone question\n",
    "_template = \"\"\"给定以下对话和后续问题，请将后续问题改写为一个独立的问题，用其原始语言表达。\n",
    "对话历史:\n",
    "{chat_history}\n",
    "后续输入: {question}\n",
    "独立问题:\"\"\"  \n",
    "\n",
    "CONDENSE_QUESTION_PROMPT = PromptTemplate.from_template(_template)\n",
    "\n",
    "def _format_chat_history(chat_history: List[Tuple[str, str]]) -> List:\n",
    "    buffer = []\n",
    "    for human, ai in chat_history:\n",
    "        buffer.append(HumanMessage(content=human))\n",
    "        buffer.append(AIMessage(content=ai))\n",
    "    return buffer\n",
    "\n",
    "_search_query = RunnableBranch(\n",
    "    # If input includes chat_history, we condense it with the follow-up question\n",
    "    (\n",
    "        RunnableLambda(lambda x: bool(x.get(\"chat_history\"))).with_config(\n",
    "            run_name=\"HasChatHistoryCheck\"\n",
    "        ),  # Condense follow-up question and chat into a standalone_question\n",
    "        RunnablePassthrough.assign(\n",
    "            chat_history=lambda x: _format_chat_history(x[\"chat_history\"])\n",
    "        )\n",
    "        | CONDENSE_QUESTION_PROMPT\n",
    "        | ChatOpenAI(temperature=0)\n",
    "        | StrOutputParser(),\n",
    "    ),\n",
    "    # Else, we have no chat history, so just pass through the question\n",
    "    RunnableLambda(lambda x : x[\"question\"]),\n",
    ")"
   ]
  },
  {
   "cell_type": "code",
   "execution_count": null,
   "id": "278372e1-ea24-4ba5-b0e1-ea92f2c24f43",
   "metadata": {},
   "outputs": [],
   "source": [
    "# a prompt that leverages the context provided by the integrated hybrid retriever to produce the response\n",
    "# completing the implementation of the RAG chain."
   ]
  },
  {
   "cell_type": "code",
   "execution_count": 39,
   "id": "dece2bab-201a-4eb0-86e7-b7c9c164c48f",
   "metadata": {},
   "outputs": [],
   "source": [
    "template = \"\"\"仅基于以下上下文回答问题：\n",
    "{context}\n",
    "\n",
    "问题: {question}\n",
    "使用自然语言（中文），并简明扼要地回答。\n",
    "Answer:\"\"\"\n",
    "prompt = ChatPromptTemplate.from_template(template)\n",
    "\n",
    "chain = (\n",
    "    RunnableParallel(\n",
    "        {\n",
    "            \"context\": _search_query | retriever,\n",
    "            \"question\": RunnablePassthrough(),\n",
    "        }\n",
    "    )\n",
    "    | prompt\n",
    "    | llm\n",
    "    | StrOutputParser()\n",
    ")"
   ]
  },
  {
   "cell_type": "code",
   "execution_count": 40,
   "id": "2e7c5e61-3c0d-4cc2-bae8-f18ff3e197db",
   "metadata": {},
   "outputs": [
    {
     "name": "stdout",
     "output_type": "stream",
     "text": [
      "Search query: 肛门痛是怎么回事?\n"
     ]
    },
    {
     "data": {
      "text/plain": [
       "'肛门痛可能是由于气血亏虚、湿热下注、血热瘀阻等不同证候引起的。针对不同的病症，可以使用紫苏子、蕤仁、三七、板蓝根、安息香等中药进行治疗。'"
      ]
     },
     "execution_count": 40,
     "metadata": {},
     "output_type": "execute_result"
    }
   ],
   "source": [
    "chain.invoke({\"question\": \"肛门痛是怎么回事?\"})"
   ]
  },
  {
   "cell_type": "code",
   "execution_count": 41,
   "id": "116b99af-2e1c-4b40-bbd6-7ce69805084f",
   "metadata": {},
   "outputs": [
    {
     "name": "stdout",
     "output_type": "stream",
     "text": [
      "Search query: 我最近便秘，怎么办？\n"
     ]
    },
    {
     "data": {
      "text/plain": [
       "'您最近便秘可能是由于身体内部的阴虚、阳虚、气滞等原因导致的。建议您可以尝试调整饮食，多食用易消化的食物，如山药、黑豆等，同时可以考虑服用一些中药如没药、石斛等进行调理。如果情况持续或加重，请及时就医。'"
      ]
     },
     "execution_count": 41,
     "metadata": {},
     "output_type": "execute_result"
    }
   ],
   "source": [
    "chain.invoke({\"question\": \"我最近便秘，怎么办？\"})"
   ]
  },
  {
   "cell_type": "code",
   "execution_count": null,
   "id": "66a072eb-8d74-4acc-a73e-0dc82c324a66",
   "metadata": {},
   "outputs": [],
   "source": [
    "# done!"
   ]
  }
 ],
 "metadata": {
  "kernelspec": {
   "display_name": "Python 3 (ipykernel)",
   "language": "python",
   "name": "python3"
  },
  "language_info": {
   "codemirror_mode": {
    "name": "ipython",
    "version": 3
   },
   "file_extension": ".py",
   "mimetype": "text/x-python",
   "name": "python",
   "nbconvert_exporter": "python",
   "pygments_lexer": "ipython3",
   "version": "3.11.8"
  }
 },
 "nbformat": 4,
 "nbformat_minor": 5
}
